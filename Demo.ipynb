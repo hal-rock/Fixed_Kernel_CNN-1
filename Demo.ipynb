{
 "cells": [
  {
   "cell_type": "markdown",
   "metadata": {},
   "source": [
    "# Using neuronal receptive field models on Tang's pattern data.\n",
    "Specifically, the models are PPR, CPPR, CMPR, FKCNN, Gabor CNN. Please refer to the paper for details: https://arxiv.org/abs/1911.08241."
   ]
  },
  {
   "cell_type": "code",
   "execution_count": null,
   "metadata": {},
   "outputs": [],
   "source": [
    "import numpy as np\n",
    "from util.get_data_pattern import prepare_dataset_pattern_demo\n",
    "#load image stimuli and neural response.\n",
    "data = prepare_dataset_pattern_demo() #load pattern data\n",
    "#load the pretrained weight, the index are pre-selected to reduce redundancy.\n",
    "FKCNN_kernel = np.load(\"./data/kernels/FKCNN_kernel.npy\")\n",
    "Gabor_kernel = np.load(\"./data/kernels/Gabor_kernel.npy\")\n",
    "CMPR_kernel = np.load(\"./data/kernels/CMPR_kernel.npy\")\n",
    "neuron = \"neu255\" #select one for demonstrating purpose."
   ]
  },
  {
   "cell_type": "code",
   "execution_count": null,
   "metadata": {},
   "outputs": [],
   "source": [
    "CMPR_kernel.shape"
   ]
  },
  {
   "cell_type": "code",
   "execution_count": null,
   "metadata": {},
   "outputs": [],
   "source": [
    "#Training a PPR model\n",
    "import sys\n",
    "sys.path.append(\"./run_script\")\n",
    "from run_script import PPR, run_PPR\n",
    "PPR_model = PPR.PPR()\n",
    "print(f\"Training PPR model on {neuron}, should take roughly 1 miniute\")\n",
    "PPR_model, PPR_corr = run_PPR.train_one(PPR_model, data[neuron], show_every=1000)\n",
    "print(f\"Testing correlation: {PPR_corr}\")"
   ]
  },
  {
   "cell_type": "code",
   "execution_count": null,
   "metadata": {},
   "outputs": [],
   "source": [
    "#Training a CPPR model\n",
    "from run_script import CPPR, run_CPPR\n",
    "CPPR_model = CPPR.CPPR()\n",
    "print(f\"Training CPPR model on {neuron}, should take roughly 2 miniutes\")\n",
    "CPPR_model, CPPR_corr = run_CPPR.train_one(CPPR_model, data[neuron], show_every=1000)\n",
    "print(f\"Testing correlation: {CPPR_corr}\")"
   ]
  },
  {
   "cell_type": "markdown",
   "metadata": {},
   "source": [
    "In general, CMPR model executes for a very long time, and we are currently working on boosting its training speed. For the demo purpose, we used a very simple settings, which will not yield the optimal results."
   ]
  },
  {
   "cell_type": "code",
   "execution_count": null,
   "metadata": {},
   "outputs": [],
   "source": [
    "#Training a CMPR model\n",
    "from run_script import CMPR, run_CMPR\n",
    "CMPR_model = CMPR.CMPR(CMPR_kernel)\n",
    "print(f\"Training CMPR model on {neuron}, should take roughly 4 miniutes\")\n",
    "CMPR_model, CMPR_corr = run_CMPR.train_one(CMPR_model, data[neuron], max_iter = [10,5,5,5,5], show_every=1000)\n",
    "print(f\"Testing correlation: {CMPR_corr}\")"
   ]
  },
  {
   "cell_type": "code",
   "execution_count": null,
   "metadata": {},
   "outputs": [],
   "source": [
    "#Training on FKCNN and Gabor CNN\n",
    "from training import train_one_model\n",
    "print(f\"Training FKCNN model on {neuron}, should take roughly 2 miniutes\")\n",
    "FKCNN_model, FKCNN_corr = train_one_model(neuron, data[neuron], FKCNN_kernel, first_layer_nolearning=True)\n",
    "print(f\"Training Gabor CNN model on {neuron}, should take roughly 2 miniutes\")\n",
    "GCNN_model, GCNN_corr = train_one_model(neuron, data[neuron], Gabor_kernel, first_layer_nolearning=True)"
   ]
  },
  {
   "cell_type": "code",
   "execution_count": null,
   "metadata": {},
   "outputs": [],
   "source": []
  }
 ],
 "metadata": {
  "kernelspec": {
   "display_name": "Python 3",
   "language": "python",
   "name": "python3"
  },
  "language_info": {
   "codemirror_mode": {
    "name": "ipython",
    "version": 3
   },
   "file_extension": ".py",
   "mimetype": "text/x-python",
   "name": "python",
   "nbconvert_exporter": "python",
   "pygments_lexer": "ipython3",
   "version": "3.7.6"
  }
 },
 "nbformat": 4,
 "nbformat_minor": 2
}
